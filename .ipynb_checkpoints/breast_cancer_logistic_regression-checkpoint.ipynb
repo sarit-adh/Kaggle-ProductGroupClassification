{
 "cells": [
  {
   "cell_type": "markdown",
   "metadata": {},
   "source": [
    "Import required libraries"
   ]
  },
  {
   "cell_type": "code",
   "execution_count": 19,
   "metadata": {},
   "outputs": [],
   "source": [
    "import pandas as pd\n",
    "import os\n",
    "import matplotlib.pyplot as plt\n",
    "import numpy as np\n",
    "import seaborn as sns\n",
    "sns.set(color_codes=True)\n",
    "from sklearn import model_selection\n",
    "from sklearn.metrics import *\n",
    "from sklearn.linear_model import LogisticRegression\n",
    "import csv"
   ]
  },
  {
   "cell_type": "markdown",
   "metadata": {},
   "source": [
    "Define utility functions"
   ]
  },
  {
   "cell_type": "code",
   "execution_count": 2,
   "metadata": {},
   "outputs": [],
   "source": [
    "#Function to read data from file\n",
    "def read_data_from_file(filepath,column_names,index_column):\n",
    "\tdf = pd.read_table(filepath,names=column_names,sep=',')\n",
    "\tdf.set_index(index_column)\n",
    "\treturn df\n",
    "\n",
    "def print_summary(df):\n",
    "\tprint \"Total records: \" + str(df.shape[0])\n",
    "\tprint \"Index column: \" + str(df.index)\n",
    "\tprint \"Total Columns \" + str(df.shape[1])\n",
    "\tprint \"Data Statistics\"\n",
    "\tprint df.iloc[:,2:len(df.columns)].describe()\n",
    "\tprint \"class distribution\"\n",
    "\tprint(df.groupby('Diagnosis').size())\n",
    "\t\n",
    "#https://chrisalbon.com/python/pandas_indexing_selecting.html\n",
    "def select_rows(df,start=0,end=0):\n",
    "\t\n",
    "\tif type(start)==int:\n",
    "\t\treturn df.iloc[start:end,:]\n",
    "\telse:\n",
    "\t\treturn df.loc[:start]\n",
    "\t\n",
    "def select_columns(df,columns_list):\n",
    "\treturn df.iloc[:,columns_list]"
   ]
  },
  {
   "cell_type": "markdown",
   "metadata": {},
   "source": [
    "Read data from file"
   ]
  },
  {
   "cell_type": "code",
   "execution_count": 5,
   "metadata": {},
   "outputs": [],
   "source": [
    "filepath = \"./data/wdbc.data\"\n",
    "column_names = [\"ID_number\", \"Diagnosis\", \"radius_mean\", \"texture_mean\",\"perimeter_mean\",\"area_mean\",\"smoothness_mean\", \\\n",
    "\t\t\t\t\"compactness_mean\",\"concavity_mean\",\"concave_points_mean\",\"symmetry_mean\",\"fractal_dimension_mean\", \\\n",
    "\t\t\t\t\"radius_SE\", \"texture_SE\",\"perimeter_SE\",\"area_SE\",\"smoothness_SE\", \\\n",
    "\t\t\t\t\"compactness_SE\",\"concavity_SE\",\"concave_points_SE\",\"symmetry_SE\",\"fractal_dimension_SE\", \\\n",
    "\t\t\t\t\"radius_worst\", \"texture_worst\",\"perimeter_worst\",\"area_worst\",\"smoothness_worst\", \\\n",
    "\t\t\t\t\"compactness_worst\",\"concavity_worst\",\"concave_points_worst\",\"symmetry_worst\",\"fractal_dimension_worst\"]\n",
    "\n",
    "bc_data = read_data_from_file(filepath,column_names,\"ID_number\")"
   ]
  },
  {
   "cell_type": "markdown",
   "metadata": {},
   "source": [
    "Split dataset into train and test set"
   ]
  },
  {
   "cell_type": "code",
   "execution_count": 6,
   "metadata": {},
   "outputs": [],
   "source": [
    "#split the dataset into train and test set\n",
    "bc_df_values = bc_data.values\n",
    "X = bc_df_values[:,2:31]\n",
    "Y = bc_df_values[:,1]\n",
    "test_set_size = 0.2\n",
    "\n",
    "seed = 1\n",
    "scoring = 'accuracy' #other possible values precision, recall, f_score\n",
    "\n",
    "\n",
    "X_train, X_test, Y_train, Y_test = model_selection.train_test_split(X,Y,test_size = test_set_size,random_state=seed) "
   ]
  },
  {
   "cell_type": "markdown",
   "metadata": {},
   "source": [
    "Hyperparameter tuning using cross validation"
   ]
  },
  {
   "cell_type": "code",
   "execution_count": 9,
   "metadata": {},
   "outputs": [
    {
     "name": "stdout",
     "output_type": "stream",
     "text": [
      "{1: 0.94531400966183576, 100: 0.95840579710144913, 0.1: 0.93222222222222229, 1000: 0.95850241545893733, 10: 0.94753623188405811, 0.001: 0.91888888888888887, 10000: 0.94961352657004849, 0.01: 0.92120772946859897}\n",
      "Best value for C is: 1000\n"
     ]
    },
    {
     "data": {
      "image/png": "[encoded data removed]",
      "text/plain": [
       "<matplotlib.figure.Figure at 0x7fbd0c8a9a50>"
      ]
     },
     "metadata": {},
     "output_type": "display_data"
    }
   ],
   "source": [
    "kfold = model_selection.KFold(n_splits=10, random_state=seed) # try with LOOCV too\n",
    "#Inverse of regularization strength; smaller values specify stronger regularization\n",
    "C_values_list = [0.001, 0.01, 0.1, 1, 10, 100, 1000,10000]\n",
    "\n",
    "C_score_resuls_list =[]\n",
    "C_score_dict = {}\n",
    "for C_value in C_values_list:\n",
    "\tregression_model = LogisticRegression(C=C_value)\n",
    "\tcv_results = model_selection.cross_val_score(regression_model, X_train, Y_train, cv=kfold, scoring=scoring)\n",
    "\n",
    "\tC_score_dict[C_value] =  cv_results.mean()\n",
    "\tC_score_resuls_list.append(cv_results)\n",
    "\t\n",
    "print C_score_dict\n",
    "print \"Best value for C is: \" + str(max(C_score_dict, key=C_score_dict.get))\n",
    "\n",
    "# Compare Hyperparameters\n",
    "fig = plt.figure()\n",
    "fig.suptitle('Hyperparameter Comparison')\n",
    "ax = fig.add_subplot(111)\n",
    "plt.boxplot(C_score_resuls_list)\n",
    "ax.set_xticklabels(C_values_list)\n",
    "plt.show()"
   ]
  },
  {
   "cell_type": "markdown",
   "metadata": {},
   "source": [
    "predict on test dataset"
   ]
  },
  {
   "cell_type": "code",
   "execution_count": 23,
   "metadata": {},
   "outputs": [
    {
     "name": "stdout",
     "output_type": "stream",
     "text": [
      "['B' 'M' 'B' 'M' 'M' 'M' 'M' 'M' 'B' 'B' 'B' 'M' 'M' 'B' 'B' 'B' 'B' 'B'\n",
      " 'B' 'M' 'B' 'B' 'M' 'B' 'M' 'B' 'B' 'M' 'M' 'M' 'M' 'B' 'M' 'M' 'B' 'B'\n",
      " 'M' 'B' 'M' 'B' 'B' 'B' 'B' 'B' 'B' 'M' 'B' 'B' 'B' 'M' 'M' 'M' 'B' 'B'\n",
      " 'B' 'B' 'B' 'M' 'B' 'B' 'B' 'M' 'B' 'B' 'B' 'B' 'B' 'M' 'B' 'B' 'B' 'B'\n",
      " 'B' 'M' 'B' 'M' 'B' 'B' 'B' 'M' 'B' 'M' 'B' 'M' 'B' 'B' 'M' 'B' 'M' 'B'\n",
      " 'B' 'M' 'B' 'B' 'M' 'M' 'B' 'B' 'B' 'B' 'B' 'B' 'B' 'B' 'B' 'B' 'B' 'B'\n",
      " 'M' 'M' 'M' 'M' 'B' 'B']\n",
      "[[71  1]\n",
      " [ 3 39]]\n",
      "0.964912280702\n"
     ]
    }
   ],
   "source": [
    "regression_model = LogisticRegression(C=10000)\n",
    "regression_model.fit(X_train,Y_train)\n",
    "predictions = regression_model.predict(X_test)\n",
    "print predictions\n",
    "print confusion_matrix(Y_test, predictions)\n",
    "print accuracy_score(Y_test, predictions)"
   ]
  }
 ],
 "metadata": {
  "kernelspec": {
   "display_name": "Python 2",
   "language": "python",
   "name": "python2"
  },
  "language_info": {
   "codemirror_mode": {
    "name": "ipython",
    "version": 2
   },
   "file_extension": ".py",
   "mimetype": "text/x-python",
   "name": "python",
   "nbconvert_exporter": "python",
   "pygments_lexer": "ipython2",
   "version": "2.7.12"
  }
 },
 "nbformat": 4,
 "nbformat_minor": 2
}
